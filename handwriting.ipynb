{
 "cells": [
  {
   "cell_type": "markdown",
   "metadata": {},
   "source": [
    "# Links\n",
    "\n",
    "Texts: [https://www.kaggle.com/datasets/naderabdalghani/iam-handwritten-forms-dataset](https://www.kaggle.com/datasets/naderabdalghani/iam-handwritten-forms-dataset)\n",
    "\n",
    "Words: [https://www.kaggle.com/datasets/nibinv23/iam-handwriting-word-database](https://www.kaggle.com/datasets/nibinv23/iam-handwriting-word-database)"
   ]
  },
  {
   "cell_type": "markdown",
   "metadata": {},
   "source": [
    "# Import"
   ]
  },
  {
   "cell_type": "code",
   "execution_count": 284,
   "metadata": {},
   "outputs": [],
   "source": [
    "class Params:\n",
    "    MAX_LEN = 12\n",
    "    vocab = \" abcdefghijklmnopqrstuvwxyz\" # 1-indexed\n",
    "    char_to_index = {char: i for i, char in enumerate(vocab)}\n",
    "    index_to_char = {i: char for i, char in enumerate(vocab)}\n",
    "\n",
    "    @staticmethod\n",
    "    def encode_string(s: str):\n",
    "        return [Params.char_to_index[char] for char in s]\n",
    "\n",
    "    @staticmethod\n",
    "    def decode_string(encoded: list[int]):\n",
    "        return ''.join([Params.index_to_char[i] for i in encoded if i != 0])"
   ]
  },
  {
   "cell_type": "code",
   "execution_count": 285,
   "metadata": {},
   "outputs": [
    {
     "name": "stdout",
     "output_type": "stream",
     "text": [
      "Using device: cuda\n"
     ]
    }
   ],
   "source": [
    "import torch\n",
    "from torch.utils.data import Dataset, DataLoader\n",
    "from torch import nn\n",
    "from torch import optim\n",
    "from torch import tensor\n",
    "from torch.functional import F\n",
    "from torchvision import transforms, datasets\n",
    "from torchvision import models\n",
    "\n",
    "\n",
    "from sklearn.model_selection import train_test_split\n",
    "from sklearn.metrics import accuracy_score, root_mean_squared_error, mean_absolute_error\n",
    "from sklearn.preprocessing import StandardScaler\n",
    "\n",
    "from skimage.morphology import skeletonize\n",
    "from itertools import product\n",
    "\n",
    "import pandas as pd\n",
    "import numpy as np\n",
    "import os\n",
    "from PIL import Image\n",
    "import copy\n",
    "import cv2\n",
    "import time\n",
    "\n",
    "from matplotlib import pyplot as plt\n",
    "device = torch.device(\"cuda\" if torch.cuda.is_available() else \"cpu\")\n",
    "print(f\"Using device: {device}\")"
   ]
  },
  {
   "cell_type": "markdown",
   "metadata": {},
   "source": [
    "# Data"
   ]
  },
  {
   "cell_type": "code",
   "execution_count": 286,
   "metadata": {},
   "outputs": [
    {
     "data": {
      "text/html": [
       "<div>\n",
       "<style scoped>\n",
       "    .dataframe tbody tr th:only-of-type {\n",
       "        vertical-align: middle;\n",
       "    }\n",
       "\n",
       "    .dataframe tbody tr th {\n",
       "        vertical-align: top;\n",
       "    }\n",
       "\n",
       "    .dataframe thead th {\n",
       "        text-align: right;\n",
       "    }\n",
       "</style>\n",
       "<table border=\"1\" class=\"dataframe\">\n",
       "  <thead>\n",
       "    <tr style=\"text-align: right;\">\n",
       "      <th></th>\n",
       "      <th>filename</th>\n",
       "      <th>word</th>\n",
       "    </tr>\n",
       "  </thead>\n",
       "  <tbody>\n",
       "    <tr>\n",
       "      <th>2</th>\n",
       "      <td>iam_words/words/a01/a01-000u/a01-000u-00-02.png</td>\n",
       "      <td>to</td>\n",
       "    </tr>\n",
       "    <tr>\n",
       "      <th>3</th>\n",
       "      <td>iam_words/words/a01/a01-000u/a01-000u-00-03.png</td>\n",
       "      <td>stop</td>\n",
       "    </tr>\n",
       "    <tr>\n",
       "      <th>6</th>\n",
       "      <td>iam_words/words/a01/a01-000u/a01-000u-00-06.png</td>\n",
       "      <td>from</td>\n",
       "    </tr>\n",
       "    <tr>\n",
       "      <th>7</th>\n",
       "      <td>iam_words/words/a01/a01-000u/a01-000u-01-00.png</td>\n",
       "      <td>nominating</td>\n",
       "    </tr>\n",
       "    <tr>\n",
       "      <th>8</th>\n",
       "      <td>iam_words/words/a01/a01-000u/a01-000u-01-01.png</td>\n",
       "      <td>any</td>\n",
       "    </tr>\n",
       "    <tr>\n",
       "      <th>...</th>\n",
       "      <td>...</td>\n",
       "      <td>...</td>\n",
       "    </tr>\n",
       "    <tr>\n",
       "      <th>38300</th>\n",
       "      <td>iam_words/words/e07/e07-072/e07-072-08-07.png</td>\n",
       "      <td>be</td>\n",
       "    </tr>\n",
       "    <tr>\n",
       "      <th>38301</th>\n",
       "      <td>iam_words/words/e07/e07-072/e07-072-09-00.png</td>\n",
       "      <td>obtained</td>\n",
       "    </tr>\n",
       "    <tr>\n",
       "      <th>38302</th>\n",
       "      <td>iam_words/words/e07/e07-072/e07-072-09-01.png</td>\n",
       "      <td>at</td>\n",
       "    </tr>\n",
       "    <tr>\n",
       "      <th>38303</th>\n",
       "      <td>iam_words/words/e07/e07-072/e07-072-09-02.png</td>\n",
       "      <td>a</td>\n",
       "    </tr>\n",
       "    <tr>\n",
       "      <th>38304</th>\n",
       "      <td>iam_words/words/e07/e07-072/e07-072-09-03.png</td>\n",
       "      <td>comparable</td>\n",
       "    </tr>\n",
       "  </tbody>\n",
       "</table>\n",
       "<p>28004 rows × 2 columns</p>\n",
       "</div>"
      ],
      "text/plain": [
       "                                              filename        word\n",
       "2      iam_words/words/a01/a01-000u/a01-000u-00-02.png          to\n",
       "3      iam_words/words/a01/a01-000u/a01-000u-00-03.png        stop\n",
       "6      iam_words/words/a01/a01-000u/a01-000u-00-06.png        from\n",
       "7      iam_words/words/a01/a01-000u/a01-000u-01-00.png  nominating\n",
       "8      iam_words/words/a01/a01-000u/a01-000u-01-01.png         any\n",
       "...                                                ...         ...\n",
       "38300    iam_words/words/e07/e07-072/e07-072-08-07.png          be\n",
       "38301    iam_words/words/e07/e07-072/e07-072-09-00.png    obtained\n",
       "38302    iam_words/words/e07/e07-072/e07-072-09-01.png          at\n",
       "38303    iam_words/words/e07/e07-072/e07-072-09-02.png           a\n",
       "38304    iam_words/words/e07/e07-072/e07-072-09-03.png  comparable\n",
       "\n",
       "[28004 rows x 2 columns]"
      ]
     },
     "execution_count": 286,
     "metadata": {},
     "output_type": "execute_result"
    }
   ],
   "source": [
    "with open('iam_words/words.txt', 'r') as f:\n",
    "    words = f.readlines()\n",
    "words = [word.strip() for word in words]\n",
    "words = words[18:-1]\n",
    "words = [w for w in words if ' err ' not in w]\n",
    "words = [[w.split(' ')[0], w.split(' ')[-1]] for w in words]\n",
    "words = [\n",
    "    [f'iam_words/words/{w.split('-')[0]}/{w.split('-')[0]}-{w.split('-')[1]}/{w}.png', y] for w, y in words]\n",
    "df = pd.DataFrame(words, columns=['filename', 'word'])\n",
    "df = df[df['filename'].apply(os.path.exists)]\n",
    "# Filter out rows where the file cannot be opened\n",
    "# valid_rows = []\n",
    "# for _, row in df.iterrows():\n",
    "#     try:\n",
    "#         with Image.open(row['filename']) as img:\n",
    "#             img.verify()  # Verify that the file is a valid image\n",
    "#         valid_rows.append(row)\n",
    "#     except Exception as e:\n",
    "#         print(f\"Skipping file {row['filename']} due to error: {e}\")\n",
    "\n",
    "# df = pd.DataFrame(valid_rows, columns=df.columns)\n",
    "df = df[df['word'].apply(lambda x: all(char in Params.vocab[1:] for char in x) and len(x) <= Params.MAX_LEN)]\n",
    "df"
   ]
  },
  {
   "cell_type": "code",
   "execution_count": 287,
   "metadata": {},
   "outputs": [],
   "source": [
    "# for i, (im, label) in df.iterrows():\n",
    "    \n",
    "#     img = Image.open(im)\n",
    "#     if not os.path.exists(f'splited_words/{label}'):\n",
    "#         os.makedirs(f'splited_words/{label}')\n",
    "#     img.save(f'splited_words/{label}/{i}.png')"
   ]
  },
  {
   "cell_type": "code",
   "execution_count": 288,
   "metadata": {},
   "outputs": [],
   "source": [
    "# class HandWritingDataset(datasets.ImageFolder):\n",
    "#     def __init__(self, root, transform=None, label_transofrm=None):\n",
    "#         super(HandWritingDataset, self).__init__(root, transform=transform)\n",
    "#         self.label"
   ]
  },
  {
   "cell_type": "markdown",
   "metadata": {},
   "source": [
    "# Dataset"
   ]
  },
  {
   "cell_type": "code",
   "execution_count": 289,
   "metadata": {},
   "outputs": [],
   "source": [
    "class HandWritingDataset(Dataset):\n",
    "    def __init__(self, df: pd.DataFrame, augument: bool = False):\n",
    "        super().__init__()\n",
    "        self.df = df\n",
    "        self.augument = augument\n",
    "        self.compose = transforms.Compose([\n",
    "            transforms.ColorJitter(brightness=0.2, contrast=0.2, saturation=0.2),\n",
    "            transforms.RandomRotation(15, expand=True, fill=(255,)),\n",
    "            transforms.RandomAffine(0, translate=(0.1, 0.1), fill=(255,)),\n",
    "            transforms.RandomPerspective(distortion_scale=0.5, p=0.5, fill=(255,)),\n",
    "            transforms.GaussianBlur(kernel_size=(3, 3), sigma=(0.1, 2.0)),\n",
    "        ])\n",
    "    \n",
    "    def __len__(self):\n",
    "        return len(self.df)\n",
    "    \n",
    "    def __getitem__(self, idx) -> tuple[tensor, tensor]:\n",
    "        row = self.df.iloc[idx]\n",
    "        im = Image.open(row['filename']).convert('L')\n",
    "\n",
    "        if self.augument:\n",
    "            im = self.compose(im)\n",
    "\n",
    "        im = cv2.bitwise_not(np.array(im, dtype=np.uint8))\n",
    "        im = cv2.resize(im, (512, 32), interpolation=cv2.INTER_CUBIC)\n",
    "        im = cv2.cvtColor(im, cv2.COLOR_GRAY2RGB)\n",
    "\n",
    "        im = tensor(np.array(im, dtype=np.float32), dtype=torch.float32).to(device).permute(2, 0, 1) / 255.0\n",
    "        im = transforms.Normalize(mean=[0.5, 0.5, 0.5], std=[0.5, 0.5, 0.5])(im)\n",
    "        \n",
    "        label = tensor(Params.encode_string(row['word'])).to(device)\n",
    "        if len(label) < Params.MAX_LEN:\n",
    "            label = torch.cat([label, tensor([0] * (Params.MAX_LEN - len(label))).to(device)])\n",
    "\n",
    "        return im, label"
   ]
  },
  {
   "cell_type": "markdown",
   "metadata": {},
   "source": [
    "# Loader"
   ]
  },
  {
   "cell_type": "code",
   "execution_count": 290,
   "metadata": {},
   "outputs": [],
   "source": [
    "def getLoaders(df: pd.DataFrame, size: float = 1.0, batch_size: int = 4, not_train_size: float = 0.2) -> tuple[DataLoader, DataLoader, DataLoader]:\n",
    "    tmpdf = df.sample(int(len(df) * size))\n",
    "\n",
    "    train_df, test_df = train_test_split(tmpdf, test_size=not_train_size)\n",
    "    test_df, val_df = train_test_split(test_df, test_size=0.5)\n",
    "    \n",
    "    train_dataset = HandWritingDataset(train_df, augument=True)\n",
    "    test_dataset = HandWritingDataset(test_df)\n",
    "    val_dataset = HandWritingDataset(val_df)\n",
    "\n",
    "    # label_counts = train_df['word'].value_counts()\n",
    "    # label_to_weight = 1 / label_counts * train_df.shape[0]\n",
    "    # weights = train_df['word'].map(label_to_weight).to_numpy()\n",
    "\n",
    "    # sampler = torch.utils.data.WeightedRandomSampler(weights, len(weights))\n",
    "\n",
    "    train_loader = DataLoader(train_dataset, batch_size=batch_size, shuffle=True)\n",
    "    test_loader = DataLoader(test_dataset, batch_size=batch_size, shuffle=True)\n",
    "    val_loader = DataLoader(val_dataset, batch_size=batch_size, shuffle=True)\n",
    "\n",
    "    return train_loader, test_loader, val_loader"
   ]
  },
  {
   "cell_type": "code",
   "execution_count": 291,
   "metadata": {},
   "outputs": [
    {
     "name": "stderr",
     "output_type": "stream",
     "text": [
      "Clipping input data to the valid range for imshow with RGB data ([0..1] for floats or [0..255] for integers). Got range [-1.0..0.6784315].\n",
      "Clipping input data to the valid range for imshow with RGB data ([0..1] for floats or [0..255] for integers). Got range [-1.0..0.57647073].\n",
      "Clipping input data to the valid range for imshow with RGB data ([0..1] for floats or [0..255] for integers). Got range [-1.0..1.0].\n",
      "Clipping input data to the valid range for imshow with RGB data ([0..1] for floats or [0..255] for integers). Got range [-1.0..0.592157].\n",
      "Clipping input data to the valid range for imshow with RGB data ([0..1] for floats or [0..255] for integers). Got range [-1.0..0.5450982].\n",
      "Clipping input data to the valid range for imshow with RGB data ([0..1] for floats or [0..255] for integers). Got range [-1.0..0.8431374].\n",
      "Clipping input data to the valid range for imshow with RGB data ([0..1] for floats or [0..255] for integers). Got range [-1.0..0.5529413].\n",
      "Clipping input data to the valid range for imshow with RGB data ([0..1] for floats or [0..255] for integers). Got range [-1.0..0.66274524].\n",
      "Clipping input data to the valid range for imshow with RGB data ([0..1] for floats or [0..255] for integers). Got range [-1.0..0.6392158].\n",
      "Clipping input data to the valid range for imshow with RGB data ([0..1] for floats or [0..255] for integers). Got range [-1.0..0.66274524].\n",
      "Clipping input data to the valid range for imshow with RGB data ([0..1] for floats or [0..255] for integers). Got range [-1.0..0.6784315].\n",
      "Clipping input data to the valid range for imshow with RGB data ([0..1] for floats or [0..255] for integers). Got range [-1.0..0.7568629].\n",
      "Clipping input data to the valid range for imshow with RGB data ([0..1] for floats or [0..255] for integers). Got range [-1.0..0.60000014].\n",
      "Clipping input data to the valid range for imshow with RGB data ([0..1] for floats or [0..255] for integers). Got range [-1.0..0.43529415].\n",
      "Clipping input data to the valid range for imshow with RGB data ([0..1] for floats or [0..255] for integers). Got range [-1.0..0.56078446].\n",
      "Clipping input data to the valid range for imshow with RGB data ([0..1] for floats or [0..255] for integers). Got range [-1.0..0.7176472].\n"
     ]
    },
    {
     "data": {
      "image/png": "[encoded data removed]",
      "text/plain": [
       "<Figure size 1000x1000 with 16 Axes>"
      ]
     },
     "metadata": {},
     "output_type": "display_data"
    }
   ],
   "source": [
    "train_loader, test_loader, val_loader = getLoaders(df, size=0.1, batch_size=16)\n",
    "\n",
    "fig, axes = plt.subplots(4, 4, figsize=(10, 10))\n",
    "for i, (x, y) in enumerate(train_loader):\n",
    "    if i >= 1:  # Process only the first batch\n",
    "        break\n",
    "    for j in range(min(16, x.size(0))):  # Ensure we don't exceed the batch size\n",
    "        ax = axes[j // 4, j % 4]\n",
    "        ax.imshow(x[j].squeeze().cpu().numpy().transpose(1, 2, 0), cmap='viridis')\n",
    "        ax.axis('off')\n",
    "        ax.set_title(f\"Label: {Params.decode_string(y[j].cpu().numpy())}\")\n",
    "plt.tight_layout()\n",
    "plt.show()"
   ]
  },
  {
   "cell_type": "markdown",
   "metadata": {},
   "source": [
    "# Model"
   ]
  },
  {
   "cell_type": "code",
   "execution_count": 292,
   "metadata": {},
   "outputs": [],
   "source": [
    "# class ConvLayer(nn.Module):\n",
    "#     def __init__(self, in_channels: int, out_channels: int, dropout: float = 0.2, maxpool: bool = True):\n",
    "#         super(ConvLayer, self).__init__()\n",
    "#         self.conv = nn.Conv2d(in_channels, out_channels, kernel_size=3, stride=1, padding=1)\n",
    "#         self.bn = nn.BatchNorm2d(out_channels)\n",
    "#         self.relu = nn.ReLU()\n",
    "#         self.dropout = nn.Dropout(dropout)\n",
    "#         self.maxpool = nn.MaxPool2d(kernel_size=2, stride=2) if maxpool else None\n",
    "\n",
    "#     def forward(self, x):\n",
    "#         x = self.conv(x)\n",
    "#         x = self.bn(x)\n",
    "#         x = self.relu(x)\n",
    "#         x = self.dropout(x)\n",
    "#         if self.maxpool:\n",
    "#             x = self.maxpool(x)\n",
    "#         return x\n",
    "    \n",
    "\n",
    "class HandWritingModel(nn.Module):\n",
    "    def __init__(self):\n",
    "        super(HandWritingModel, self).__init__()\n",
    "\n",
    "        self.conv1 = nn.Conv2d(1, 16, kernel_size=3, stride=1, padding=1)\n",
    "        self.bn1 = nn.BatchNorm2d(16)\n",
    "        self.relu1 = nn.ReLU()\n",
    "        self.drop1 = nn.Dropout(0.2)\n",
    "\n",
    "        self.conv2 = nn.Conv2d(16, 32, kernel_size=3, stride=1, padding=1)\n",
    "        self.bn2 = nn.BatchNorm2d(32)\n",
    "        self.relu2 = nn.ReLU()\n",
    "        self.drop2 = nn.Dropout(0.2)\n",
    "        self.pool2 = nn.MaxPool2d(kernel_size=2, stride=2)\n",
    "\n",
    "        self.conv3 = nn.Conv2d(32, 64, kernel_size=3, stride=1, padding=1)\n",
    "        self.bn3 = nn.BatchNorm2d(64)\n",
    "        self.relu3 = nn.ReLU()\n",
    "        self.drop3 = nn.Dropout(0.2)\n",
    "        self.pool3 = nn.MaxPool2d(kernel_size=2, stride=2)\n",
    "\n",
    "        self.conv4 = nn.Conv2d(64, 64, kernel_size=3, stride=1, padding=1)\n",
    "        self.bn4 = nn.BatchNorm2d(64)\n",
    "        self.relu4 = nn.ReLU()\n",
    "        self.drop4 = nn.Dropout(0.2)\n",
    "        self.pool4 = nn.MaxPool2d(kernel_size=2, stride=2)\n",
    "\n",
    "        self.lstm = nn.LSTM(input_size=256, hidden_size=128, num_layers=2, batch_first=True, bidirectional=True, dropout=0.2)\n",
    "        # self.norm5 = nn.LayerNorm(256)\n",
    "\n",
    "        self.dense = nn.Linear(256, 128)\n",
    "        # self.norm6 = nn.LayerNorm(128)\n",
    "        self.output = nn.Linear(128, len(Params.vocab))\n",
    "        self.softmax = nn.LogSoftmax(dim=2)\n",
    "\n",
    "        # self._init_weights()\n",
    "\n",
    "    def forward(self, x):\n",
    "        x = self.conv1(x)\n",
    "        x = self.bn1(x)\n",
    "        x = self.relu1(x)\n",
    "        x = self.drop1(x)\n",
    "\n",
    "        x = self.conv2(x)\n",
    "        x = self.bn2(x)\n",
    "        x = self.relu2(x)\n",
    "        x = self.drop2(x)\n",
    "        x = self.pool2(x)\n",
    "\n",
    "        x = self.conv3(x)\n",
    "        x = self.bn3(x)\n",
    "        x = self.relu3(x)\n",
    "        x = self.drop3(x)\n",
    "        x = self.pool3(x)\n",
    "\n",
    "        x = self.conv4(x)\n",
    "        x = self.bn4(x)\n",
    "        x = self.relu4(x)\n",
    "        x = self.drop4(x)\n",
    "        x = self.pool4(x)\n",
    "\n",
    "        x = x.permute(0, 3, 2, 1)\n",
    "        x = x.flatten(2)\n",
    "        x = self.lstm(x)\n",
    "        x = x[0]\n",
    "        # x = self.norm5(x)\n",
    "\n",
    "        x = self.dense(x)\n",
    "        # x = self.norm6(x)\n",
    "        x = self.output(x)\n",
    "        x = self.softmax(x)\n",
    "        x = x.permute(1, 0, 2)\n",
    "        return x\n",
    "        \n",
    "    \n",
    "    # def _init_weights(self):\n",
    "    #     for m in self.modules():\n",
    "    #         if isinstance(m, nn.Conv2d) or isinstance(m, nn.Linear):\n",
    "    #             nn.init.xavier_uniform_(m.weight)\n",
    "    #             if m.bias is not None:\n",
    "    #                 nn.init.zeros_(m.bias)\n",
    "    #         elif isinstance(m, nn.LSTM):\n",
    "    #             for name, param in m.named_parameters():\n",
    "    #                 if 'weight' in name:\n",
    "    #                     nn.init.xavier_uniform_(param)\n",
    "    #                 elif 'bias' in name:\n",
    "    #                     nn.init.zeros_(param)\n",
    "    #                     # Initialize forget gate bias to 1\n",
    "    #                     if 'bias_ih' in name:\n",
    "    #                         n = param.size(0)\n",
    "    #                         param.data[n // 4:n // 2].fill_(1.0)"
   ]
  },
  {
   "cell_type": "markdown",
   "metadata": {},
   "source": [
    "# Training"
   ]
  },
  {
   "cell_type": "code",
   "execution_count": 293,
   "metadata": {},
   "outputs": [],
   "source": [
    "def train_model(\n",
    "    model: nn.Module, \n",
    "    criterion: nn.CTCLoss, \n",
    "    optimizer: optim.Optimizer, \n",
    "    train_loader: DataLoader, \n",
    "    val_loader: DataLoader, \n",
    "    epochs: int = 10\n",
    ") -> None:\n",
    "    print('|         ' * 10, end='|\\n')\n",
    "    model.train()\n",
    "    best_model = model.state_dict()\n",
    "    best_loss = float('inf')\n",
    "    for epoch in range(epochs):\n",
    "        train_losses = 0\n",
    "        for i, (x, y) in enumerate(train_loader):\n",
    "            optimizer.zero_grad()\n",
    "            y_pred = model(x)  # Shape: (T, batch_size, num_classes)\n",
    "\n",
    "            batch_size = x.size(0)\n",
    "            input_lengths = torch.full(size=(batch_size,), fill_value=y_pred.size(0), dtype=torch.long).to(device)\n",
    "            target_lengths = torch.tensor([len(seq[seq != 0]) for seq in y], dtype=torch.long).to(device)\n",
    "\n",
    "            loss = criterion(y_pred, y, input_lengths, target_lengths)\n",
    "\n",
    "            train_losses += loss.item()\n",
    "            loss.backward()\n",
    "            torch.nn.utils.clip_grad_norm_(model.parameters(), max_norm=1.0)\n",
    "            optimizer.step()\n",
    "            if i % (len(train_loader) // 100 + 1) == 0:\n",
    "                print('-', end='')\n",
    "            \n",
    "        with torch.no_grad():\n",
    "            val_lossese = 0\n",
    "            for i, _ in val_loader:\n",
    "                y_pred = model(x)\n",
    "\n",
    "                batch_size = x.size(0)\n",
    "                input_lengths = torch.full(size=(batch_size,), fill_value=y_pred.size(0), dtype=torch.long).to(device)\n",
    "                target_lengths = torch.tensor([len(seq[seq != 0]) for seq in y], dtype=torch.long).to(device)\n",
    "\n",
    "                loss = criterion(y_pred, y, input_lengths, target_lengths)\n",
    "                val_lossese += loss.item()\n",
    "        \n",
    "        if val_lossese < best_loss:\n",
    "            best_loss = val_lossese\n",
    "            best_model = model.state_dict()\n",
    "            # print(f\"Best model saved with loss: {best_loss/len(val_loader):.3f}\")\n",
    "\n",
    "        print(f\" Epoch {epoch+1}/{epochs}, Loss: {train_losses/len(train_loader):.3f}     Val Loss: {val_lossese/len(val_loader):.3f} \")\n",
    "    model.load_state_dict(best_model)"
   ]
  },
  {
   "cell_type": "code",
   "execution_count": 294,
   "metadata": {},
   "outputs": [],
   "source": [
    "def test_model(model: nn.Module, criterion: nn.CTCLoss, test_loader: DataLoader) -> float:\n",
    "    model.eval()\n",
    "    test_losses = 0\n",
    "    for x, y in test_loader:\n",
    "        y_pred = model(x)\n",
    "\n",
    "        batch_size = x.size(0)\n",
    "        input_lengths = torch.full(size=(batch_size,), fill_value=y_pred.size(0), dtype=torch.long).to(device)\n",
    "        target_lengths = torch.tensor([len(seq[seq != 0]) for seq in y], dtype=torch.long).to(device)\n",
    "\n",
    "        loss = criterion(y_pred, y, input_lengths, target_lengths)\n",
    "\n",
    "        test_losses += loss.sum().item()\n",
    "        \n",
    "    return test_losses / len(test_loader) / test_loader.batch_size"
   ]
  },
  {
   "cell_type": "code",
   "execution_count": 295,
   "metadata": {},
   "outputs": [],
   "source": [
    "def predict(model: nn.Module, sample_df) -> list[tuple[str, str]]:\n",
    "    model.eval()\n",
    "    predictions = []\n",
    "    test_loader = DataLoader(HandWritingDataset(sample_df), batch_size=1, shuffle=False)\n",
    "    with torch.no_grad():\n",
    "        for x, y in test_loader:\n",
    "            y_pred = model(x)\n",
    "            y_pred = torch.argmax(y_pred, dim=2).squeeze(1).cpu().numpy()\n",
    "            y = y.squeeze(0).cpu().numpy()\n",
    "            predictions.append((Params.decode_string(y_pred), Params.decode_string(y)))\n",
    "    return predictions"
   ]
  },
  {
   "cell_type": "markdown",
   "metadata": {},
   "source": [
    "# Example usage"
   ]
  },
  {
   "cell_type": "code",
   "execution_count": 296,
   "metadata": {},
   "outputs": [],
   "source": [
    "class TLModel(nn.Module):\n",
    "    def __init__(self,):\n",
    "        super(TLModel, self).__init__()\n",
    "        self.mnv2 = models.mobilenet_v2(pretrained=True).features[:-1]\n",
    "        for param in self.mnv2.parameters():\n",
    "            param.requires_grad = False\n",
    "        self.lstm = nn.LSTM(input_size=320, hidden_size=256, num_layers=2, batch_first=True, bidirectional=True, dropout=0.5)\n",
    "        self.dense = nn.Linear(512, 27)\n",
    "\n",
    "    def forward(self, x):\n",
    "        x = self.mnv2(x)\n",
    "        x = x.permute(0, 3, 2, 1)\n",
    "        x = x.flatten(2)\n",
    "        # print(x.shape)\n",
    "        x, _ = self.lstm(x)\n",
    "        x = self.dense(x)\n",
    "        x = x.permute(1, 0, 2)\n",
    "        x = F.log_softmax(x, dim=2)\n",
    "        # print(x.shape)\n",
    "        return x"
   ]
  },
  {
   "cell_type": "code",
   "execution_count": 297,
   "metadata": {},
   "outputs": [
    {
     "name": "stderr",
     "output_type": "stream",
     "text": [
      "/home/jakub/miniconda3/envs/torch/lib/python3.13/site-packages/torchvision/models/_utils.py:208: UserWarning: The parameter 'pretrained' is deprecated since 0.13 and may be removed in the future, please use 'weights' instead.\n",
      "  warnings.warn(\n",
      "/home/jakub/miniconda3/envs/torch/lib/python3.13/site-packages/torchvision/models/_utils.py:223: UserWarning: Arguments other than a weight enum or `None` for 'weights' are deprecated since 0.13 and may be removed in the future. The current behavior is equivalent to passing `weights=MobileNet_V2_Weights.IMAGENET1K_V1`. You can also use `weights=MobileNet_V2_Weights.DEFAULT` to get the most up-to-date weights.\n",
      "  warnings.warn(msg)\n"
     ]
    }
   ],
   "source": [
    "criterion = nn.CTCLoss(blank=0).to(device)\n",
    "# model = HandWritingModel().to(device)\n",
    "model = TLModel().to(device)\n",
    "optimizer = optim.Adam(model.parameters(), lr=1e-4)\n",
    "scheduler = optim.lr_scheduler.StepLR(optimizer, step_size=1, gamma=0.1)\n",
    "\n",
    "train_loader, test_loader, val_loader = getLoaders(df, size=1.0, batch_size=32, not_train_size=0.2)"
   ]
  },
  {
   "cell_type": "code",
   "execution_count": 298,
   "metadata": {},
   "outputs": [
    {
     "name": "stdout",
     "output_type": "stream",
     "text": [
      "|         |         |         |         |         |         |         |         |         |         |\n",
      "---------------------------------------------------------------------------------------- Epoch 1/10, Loss: 3.624     Val Loss: 2.634 \n",
      "---------------------------------------------------------------------------------------- Epoch 2/10, Loss: 2.756     Val Loss: 2.074 \n",
      "---------------------------------------------------------------------------------------- Epoch 3/10, Loss: 2.599     Val Loss: 2.477 \n",
      "---------------------------------------------------------------------------------------- Epoch 4/10, Loss: 2.518     Val Loss: 2.277 \n",
      "---------------------------------------------------------------------------------------- Epoch 5/10, Loss: 2.454     Val Loss: 2.941 \n",
      "---------------------------------------------------------------------------------------- Epoch 6/10, Loss: 2.411     Val Loss: 2.480 \n",
      "---------------------------------------------------------------------------------------- Epoch 7/10, Loss: 2.365     Val Loss: 1.714 \n",
      "---------------------------------------------------------------------------------------- Epoch 8/10, Loss: 2.332     Val Loss: 1.212 \n",
      "---------------------------------------------------------------------------------------- Epoch 9/10, Loss: 2.301     Val Loss: 2.398 \n",
      "---------------------------------------------------------------------------------------- Epoch 10/10, Loss: 2.268     Val Loss: 2.009 \n"
     ]
    }
   ],
   "source": [
    "train_model(model, criterion, optimizer, train_loader, val_loader, epochs=10)"
   ]
  },
  {
   "cell_type": "code",
   "execution_count": 305,
   "metadata": {},
   "outputs": [
    {
     "name": "stdout",
     "output_type": "stream",
     "text": [
      "|         |         |         |         |         |         |         |         |         |         |\n",
      "---------------------------------------------------------------------------------------- Epoch 1/5, Loss: 0.661     Val Loss: 0.441 \n",
      "---------------------------------------------------------------------------------------- Epoch 2/5, Loss: 0.607     Val Loss: 1.481 \n",
      "---------------------------------------------------------------------------------------- Epoch 3/5, Loss: 0.565     Val Loss: 0.355 \n",
      "---------------------------------------------------------------------------------------- Epoch 4/5, Loss: 0.537     Val Loss: 0.372 \n",
      "---------------------------------------------------------------------------------------- Epoch 5/5, Loss: 0.519     Val Loss: 0.999 \n"
     ]
    }
   ],
   "source": [
    "train_loader, test_loader, val_loader = getLoaders(\n",
    "    df, size=1.0, batch_size=32, not_train_size=0.2)\n",
    "\n",
    "for param in model.mnv2.parameters():\n",
    "    param.requires_grad = True\n",
    "\n",
    "train_model(model, criterion, optimizer, train_loader, val_loader, epochs=5)"
   ]
  },
  {
   "cell_type": "code",
   "execution_count": 306,
   "metadata": {},
   "outputs": [
    {
     "name": "stdout",
     "output_type": "stream",
     "text": [
      "Test Loss: 0.023\n",
      "('laid', 'laid')\n",
      "('sivl', 'rival')\n",
      "('tis', 'the')\n",
      "('mast', 'most')\n",
      "('abooove', 'above')\n",
      "('it', 'it')\n",
      "('frroom', 'from')\n",
      "('figgntiinng', 'fighting')\n",
      "('are', 'are')\n",
      "('by', 'by')\n",
      "('liiiccch', 'which')\n",
      "('desiiggn', 'design')\n",
      "('may', 'may')\n",
      "('dosiiiatee', 'obstinate')\n",
      "('hay', 'by')\n",
      "('the', 'the')\n",
      "('uiselesssly', 'uselessly')\n",
      "('cessefaal', 'useful')\n",
      "('termms', 'terms')\n",
      "('to', 'to')\n",
      "('resst', 'rest')\n",
      "('haas', 'has')\n",
      "('aaiid', 'said')\n",
      "('iin', 'in')\n",
      "('pojiirt', 'project')\n",
      "('figghteerr', 'fighter')\n",
      "('apparieencees', 'experiences')\n",
      "('iin', 'in')\n",
      "('miigrrate', 'migrate')\n",
      "('fiveely', 'tively')\n",
      "('by', 'by')\n",
      "('rome', 'come')\n",
      "('in', 'an')\n",
      "('hn', 'we')\n",
      "('nais', 'new')\n",
      "('farccees', 'forces')\n",
      "('hhiir', 'their')\n",
      "('paaan', 'plan')\n",
      "('almaast', 'almost')\n",
      "('the', 'the')\n",
      "('thiiir', 'their')\n",
      "('if', 'if')\n",
      "('pafatty', 'safety')\n",
      "('to', 'to')\n",
      "('are', 'are')\n",
      "('for', 'for')\n",
      "('theese', 'these')\n",
      "('mmorriity', 'majority')\n",
      "('to', 'to')\n",
      "('sppiiiif', 'spite')\n"
     ]
    }
   ],
   "source": [
    "test_loss = test_model(model, criterion, test_loader)\n",
    "print(f\"Test Loss: {test_loss:.3f}\")\n",
    "\n",
    "predictions = predict(model, df.sample(50))\n",
    "for i in predictions:\n",
    "    print(i)"
   ]
  },
  {
   "cell_type": "code",
   "execution_count": 301,
   "metadata": {},
   "outputs": [],
   "source": [
    "timestamp = time.strftime(\"%Y%m%d-%H%M%S\")\n",
    "torch.save(model.state_dict(), f\"handwriting_model{timestamp}.pth\")\n"
   ]
  },
  {
   "cell_type": "markdown",
   "metadata": {},
   "source": [
    "# Tuning"
   ]
  },
  {
   "cell_type": "code",
   "execution_count": 302,
   "metadata": {},
   "outputs": [
    {
     "name": "stdout",
     "output_type": "stream",
     "text": [
      "c: 16, h: 64, n: 1\n"
     ]
    },
    {
     "ename": "TypeError",
     "evalue": "HandWritingModel.__init__() takes 1 positional argument but 4 were given",
     "output_type": "error",
     "traceback": [
      "\u001b[31m---------------------------------------------------------------------------\u001b[39m",
      "\u001b[31mTypeError\u001b[39m                                 Traceback (most recent call last)",
      "\u001b[36mCell\u001b[39m\u001b[36m \u001b[39m\u001b[32mIn[302]\u001b[39m\u001b[32m, line 16\u001b[39m\n\u001b[32m     14\u001b[39m row = results.iloc[i]\n\u001b[32m     15\u001b[39m \u001b[38;5;28mprint\u001b[39m(\u001b[33mf\u001b[39m\u001b[33m'\u001b[39m\u001b[33mc: \u001b[39m\u001b[38;5;132;01m{\u001b[39;00mrow[\u001b[33m\"\u001b[39m\u001b[33mparams\u001b[39m\u001b[33m\"\u001b[39m][\u001b[32m0\u001b[39m]\u001b[38;5;132;01m}\u001b[39;00m\u001b[33m, h: \u001b[39m\u001b[38;5;132;01m{\u001b[39;00mrow[\u001b[33m\"\u001b[39m\u001b[33mparams\u001b[39m\u001b[33m\"\u001b[39m][\u001b[32m1\u001b[39m]\u001b[38;5;132;01m}\u001b[39;00m\u001b[33m, n: \u001b[39m\u001b[38;5;132;01m{\u001b[39;00mrow[\u001b[33m\"\u001b[39m\u001b[33mparams\u001b[39m\u001b[33m\"\u001b[39m][\u001b[32m2\u001b[39m]\u001b[38;5;132;01m}\u001b[39;00m\u001b[33m'\u001b[39m)\n\u001b[32m---> \u001b[39m\u001b[32m16\u001b[39m model = \u001b[43mHandWritingModel\u001b[49m\u001b[43m(\u001b[49m\u001b[43mrow\u001b[49m\u001b[43m[\u001b[49m\u001b[33;43m'\u001b[39;49m\u001b[33;43mparams\u001b[39;49m\u001b[33;43m'\u001b[39;49m\u001b[43m]\u001b[49m\u001b[43m[\u001b[49m\u001b[32;43m0\u001b[39;49m\u001b[43m]\u001b[49m\u001b[43m,\u001b[49m\u001b[43m \u001b[49m\u001b[43mrow\u001b[49m\u001b[43m[\u001b[49m\u001b[33;43m'\u001b[39;49m\u001b[33;43mparams\u001b[39;49m\u001b[33;43m'\u001b[39;49m\u001b[43m]\u001b[49m\u001b[43m[\u001b[49m\u001b[32;43m1\u001b[39;49m\u001b[43m]\u001b[49m\u001b[43m,\u001b[49m\u001b[43m \u001b[49m\u001b[43mrow\u001b[49m\u001b[43m[\u001b[49m\u001b[33;43m'\u001b[39;49m\u001b[33;43mparams\u001b[39;49m\u001b[33;43m'\u001b[39;49m\u001b[43m]\u001b[49m\u001b[43m[\u001b[49m\u001b[32;43m2\u001b[39;49m\u001b[43m]\u001b[49m\u001b[43m)\u001b[49m.to(device)\n\u001b[32m     17\u001b[39m optimizer = optim.Adam(model.parameters(), lr=\u001b[32m1e-4\u001b[39m)\n\u001b[32m     18\u001b[39m train_model(model, criterion, optimizer, train_loader, val_loader, epochs=\u001b[32m1\u001b[39m)\n",
      "\u001b[31mTypeError\u001b[39m: HandWritingModel.__init__() takes 1 positional argument but 4 were given"
     ]
    }
   ],
   "source": [
    "criterion = nn.CTCLoss(blank=0, zero_infinity=True).to(device)\n",
    "\n",
    "tested_parameters = list(product([16, 32, 64, 128], [64, 128, 256], [1, 2]))\n",
    "\n",
    "train_loader, test_loader, val_loader = getLoaders(df, size=0.03, batch_size=4, not_train_size=0.2)\n",
    "\n",
    "results = pd.DataFrame({\n",
    "    'params': tested_parameters,\n",
    "    'train_loss': 0.0,\n",
    "    'test_loss': 0.0\n",
    "})\n",
    "\n",
    "for i in range(len(results)):\n",
    "    row = results.iloc[i]\n",
    "    print(f'c: {row[\"params\"][0]}, h: {row[\"params\"][1]}, n: {row[\"params\"][2]}')\n",
    "    model = HandWritingModel(row['params'][0], row['params'][1], row['params'][2]).to(device)\n",
    "    optimizer = optim.Adam(model.parameters(), lr=1e-4)\n",
    "    train_model(model, criterion, optimizer, train_loader, val_loader, epochs=1)\n",
    "    results.loc[i, 'train_loss'] = test_model(model, criterion, train_loader)\n",
    "    results.loc[i, 'test_loss'] = test_model(model, criterion, test_loader)\n",
    "\n",
    "print(results)"
   ]
  },
  {
   "cell_type": "code",
   "execution_count": null,
   "metadata": {},
   "outputs": [
    {
     "data": {
      "text/plain": [
       "<Axes: xlabel='params'>"
      ]
     },
     "execution_count": 11,
     "metadata": {},
     "output_type": "execute_result"
    },
    {
     "data": {
      "image/png": "[encoded data removed]",
      "text/plain": [
       "<Figure size 1600x800 with 1 Axes>"
      ]
     },
     "metadata": {},
     "output_type": "display_data"
    }
   ],
   "source": [
    "results = results.sort_values(by='test_loss', ascending=True)\n",
    "\n",
    "results.set_index('params').plot(kind='bar', figsize=(16, 8), rot=30)\n"
   ]
  }
 ],
 "metadata": {
  "kernelspec": {
   "display_name": "torch",
   "language": "python",
   "name": "python3"
  },
  "language_info": {
   "codemirror_mode": {
    "name": "ipython",
    "version": 3
   },
   "file_extension": ".py",
   "mimetype": "text/x-python",
   "name": "python",
   "nbconvert_exporter": "python",
   "pygments_lexer": "ipython3",
   "version": "3.13.2"
  }
 },
 "nbformat": 4,
 "nbformat_minor": 2
}
