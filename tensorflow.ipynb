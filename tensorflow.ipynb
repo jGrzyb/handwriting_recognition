{
 "cells": [
  {
   "cell_type": "markdown",
   "metadata": {},
   "source": [
    "# Imports"
   ]
  },
  {
   "cell_type": "code",
   "execution_count": null,
   "metadata": {},
   "outputs": [],
   "source": [
    "import numpy as np\n",
    "import matplotlib.pyplot as plt\n",
    "import pandas as pd\n",
    "import cv2\n",
    "import os\n",
    "import sys\n",
    "import tensorflow as tf\n",
    "from tensorflow.keras.preprocessing.sequence import pad_sequences\n",
    "from tensorflow.keras.preprocessing.text import Tokenizer\n",
    "from tensorflow.keras import layers, Model\n",
    "from tensorflow.keras.losses import CTC"
   ]
  },
  {
   "cell_type": "code",
   "execution_count": null,
   "metadata": {},
   "outputs": [],
   "source": [
    "# # Tokenize the words\n",
    "# tokenizer = Tokenizer()  # Character-level tokenizer\n",
    "# tokenizer.fit_on_texts(df['word'])\n",
    "# word_sequences = tokenizer.texts_to_sequences(df['word'])\n",
    "# # word_sequences = df['word'].values\n",
    "# print(word_sequences)\n",
    "# print(type(word_sequences))\n",
    "# word_padded = pad_sequences(word_sequences, maxlen=max_word_length, padding='post')"
   ]
  },
  {
   "cell_type": "markdown",
   "metadata": {},
   "source": [
    "# Helpers"
   ]
  },
  {
   "cell_type": "code",
   "execution_count": null,
   "metadata": {},
   "outputs": [],
   "source": [
    "def prepare_dataset(df, max_word_length, batch_size):\n",
    "    tokenizer = Tokenizer(char_level=True)  # Character-level tokenizer\n",
    "    word_sequences = tf.strings.unicode_decode(df['word'].values, 'ASCII').to_list()\n",
    "    word_padded = pad_sequences(word_sequences, maxlen=max_word_length, padding='post')\n",
    "    word_padded = tf.sparse.from_dense(word_padded)\n",
    "\n",
    "    # Create a TensorFlow dataset\n",
    "    def process_row(filepath, word):\n",
    "        print(f'{filepath} {word}')\n",
    "        # Read and decode the image\n",
    "        image = tf.io.read_file(filepath)\n",
    "        image = tf.image.decode_png(image, channels=1)  # Assuming grayscale images\n",
    "        image = tf.image.resize(image, [128, 32])  # Resize to a fixed size\n",
    "        image = image / 255.0  # Normalize to [0, 1]\n",
    "        return image, word\n",
    "\n",
    "    filepaths = df['filename'].values\n",
    "    dataset = tf.data.Dataset.from_tensor_slices((filepaths, word_padded))\n",
    "    dataset = dataset.map(lambda x, y: process_row(x, y), num_parallel_calls=tf.data.AUTOTUNE)\n",
    "    dataset = dataset.shuffle(buffer_size=128).batch(batch_size).prefetch(tf.data.AUTOTUNE)\n",
    "    # dataset = dataset.filter(lambda x, y: tf.size(x) > 0)\n",
    "\n",
    "    return dataset, tokenizer"
   ]
  },
  {
   "cell_type": "code",
   "execution_count": null,
   "metadata": {},
   "outputs": [],
   "source": [
    "def build_handwriting_recognition_model(input_shape, num_classes):\n",
    "    # Input layer\n",
    "    inputs = layers.Input(shape=input_shape, name=\"image\")\n",
    "\n",
    "    # Convolutional layers (feature extraction)\n",
    "    x = layers.Conv2D(32, (3, 3), activation=\"relu\", padding=\"same\")(inputs)\n",
    "    x = layers.MaxPooling2D((2, 2))(x)\n",
    "    x = layers.Conv2D(64, (3, 3), activation=\"relu\", padding=\"same\")(x)\n",
    "    x = layers.MaxPooling2D((2, 2))(x)\n",
    "    x = layers.Conv2D(128, (3, 3), activation=\"relu\", padding=\"same\")(x)\n",
    "    x = layers.MaxPooling2D((2, 2))(x)\n",
    "\n",
    "    # Reshape for RNN\n",
    "    x = layers.Reshape((-1, x.shape[-1] * x.shape[-2]))(x)\n",
    "\n",
    "    # Recurrent layers (sequence modeling)\n",
    "    x = layers.Bidirectional(layers.LSTM(128, return_sequences=True))(x)\n",
    "    x = layers.Bidirectional(layers.LSTM(128, return_sequences=True))(x)\n",
    "\n",
    "    # Dense layer (character probabilities)\n",
    "    # +1 for the CTC blank token\n",
    "    x = layers.Dense(num_classes + 1, activation=\"softmax\")(x)\n",
    "\n",
    "    # Define the model\n",
    "    model = Model(inputs, x, name=\"handwriting_recognition_model\")\n",
    "    return model"
   ]
  },
  {
   "cell_type": "markdown",
   "metadata": {},
   "source": [
    "# Read data"
   ]
  },
  {
   "cell_type": "code",
   "execution_count": null,
   "metadata": {},
   "outputs": [],
   "source": [
    "with open('iam_words/words.txt', 'r') as f:\n",
    "    words = f.readlines()\n",
    "words = [word.strip() for word in words]\n",
    "words = words[18:-1]\n",
    "words = [w for w in words if ' err ' not in w]\n",
    "words = [[w.split(' ')[0], w.split(' ')[-1]] for w in words]\n",
    "words = [[f'iam_words/words/{w.split('-')[0]}/{w.split('-')[0]}-{w.split('-')[1]}/{w}.png', y] for w, y in words]\n",
    "df = pd.DataFrame(words, columns=['filename', 'word'])\n",
    "df = df[df['filename'].apply(os.path.exists)]\n",
    "# df['word'] = df['word'].apply(lambda x: [np.int32(ord(a)) for a in x])\n",
    "df"
   ]
  },
  {
   "cell_type": "code",
   "execution_count": null,
   "metadata": {},
   "outputs": [],
   "source": [
    "df = df.iloc[:1000, :]"
   ]
  },
  {
   "cell_type": "code",
   "execution_count": null,
   "metadata": {},
   "outputs": [],
   "source": [
    "dataset, tokenizer = prepare_dataset(df, max_word_length=32, batch_size=32)"
   ]
  },
  {
   "cell_type": "code",
   "execution_count": null,
   "metadata": {},
   "outputs": [],
   "source": [
    "dataset.take(1).element_spec[0].shape[1:]"
   ]
  },
  {
   "cell_type": "code",
   "execution_count": null,
   "metadata": {},
   "outputs": [],
   "source": [
    "dataset.take(1)"
   ]
  },
  {
   "cell_type": "code",
   "execution_count": null,
   "metadata": {},
   "outputs": [],
   "source": [
    "model = build_handwriting_recognition_model(input_shape=dataset.take(1).element_spec[0].shape[1:], num_classes=256)\n",
    "model.summary()"
   ]
  },
  {
   "cell_type": "code",
   "execution_count": null,
   "metadata": {},
   "outputs": [],
   "source": [
    "inputs = layers.Input(shape=dataset.take(1).element_spec[0].shape[1:], name=\"image\")\n",
    "\n",
    "# Convolutional layers (feature extraction)\n",
    "x = layers.Conv2D(32, (3, 3), activation=\"relu\", padding=\"same\")(inputs)\n",
    "x = layers.MaxPooling2D((2, 2))(x)\n",
    "x = layers.Conv2D(64, (3, 3), activation=\"relu\", padding=\"same\")(x)\n",
    "x = layers.MaxPooling2D((2, 2))(x)\n",
    "x = layers.Conv2D(128, (3, 3), activation=\"relu\", padding=\"same\")(x)\n",
    "x = layers.MaxPooling2D((2, 2))(x)\n",
    "\n",
    "print(x)\n",
    "# Reshape for RNN\n",
    "x = layers.Reshape((-1, x.shape[-1] * x.shape[-2]))(x)\n",
    "print(x)\n",
    "\n",
    "# Recurrent layers (sequence modeling)\n",
    "x = layers.Bidirectional(layers.LSTM(128, return_sequences=True))(x)\n",
    "x = layers.Bidirectional(layers.LSTM(128, return_sequences=True))(x)\n",
    "\n",
    "# Dense layer (character probabilities)\n",
    "# +1 for the CTC blank token\n",
    "x = layers.Dense(256 + 1, activation=\"softmax\")(x)\n",
    "\n",
    "# Define the model\n",
    "model = Model(inputs, x, name=\"handwriting_recognition_model\")\n",
    "\n",
    "model.compile(optimizer='adam', loss='ctc')\n",
    "history = model.fit(dataset, epochs=1)"
   ]
  },
  {
   "cell_type": "code",
   "execution_count": null,
   "metadata": {},
   "outputs": [],
   "source": [
    "model.compile(optimizer='adam', loss='ctc')\n",
    "history = model.fit(dataset, epochs=1)"
   ]
  },
  {
   "cell_type": "code",
   "execution_count": null,
   "metadata": {},
   "outputs": [],
   "source": [
    "plt.plot(history.history['loss'])"
   ]
  },
  {
   "cell_type": "code",
   "execution_count": null,
   "metadata": {},
   "outputs": [],
   "source": [
    "batch = dataset.take(1)\n",
    "print(batch)\n",
    "for x, y in batch:\n",
    "    print(x.shape)\n",
    "    print(y.shape)\n",
    "    break"
   ]
  },
  {
   "cell_type": "code",
   "execution_count": null,
   "metadata": {},
   "outputs": [],
   "source": [
    "try:\n",
    "    for x, y in dataset.take(150):\n",
    "        pass\n",
    "except Exception as e:\n",
    "    print(f\"Error: {e}\")"
   ]
  },
  {
   "cell_type": "code",
   "execution_count": null,
   "metadata": {},
   "outputs": [],
   "source": [
    "i = 0\n",
    "while i < 120:\n",
    "    try:\n",
    "        for x, y in dataset.skip(i).take(1):\n",
    "            pass\n",
    "        i += 1\n",
    "    except:\n",
    "        print(f\"Wrong {i} {df.iloc[i]['filename']}\")"
   ]
  },
  {
   "cell_type": "code",
   "execution_count": null,
   "metadata": {},
   "outputs": [],
   "source": [
    "tmpdf = df.iloc[:, :]\n",
    "print(tmpdf)\n",
    "dataset, tokenizer = prepare_dataset(tmpdf, max_word_length=32, batch_size=32)\n",
    "i = 0\n",
    "for x, y in dataset.take(150):\n",
    "    print(i, end=' ')\n",
    "    i += 1"
   ]
  },
  {
   "cell_type": "code",
   "execution_count": null,
   "metadata": {},
   "outputs": [],
   "source": [
    "tmpdf = df.iloc[100:, :]\n",
    "print(tmpdf)\n",
    "dataset, tokenizer = prepare_dataset(tmpdf, max_word_length=32, batch_size=32)\n",
    "i = 100\n",
    "for x, y in dataset.take(150):\n",
    "    print(i, end=' ')\n",
    "    i += 1"
   ]
  }
 ],
 "metadata": {
  "kernelspec": {
   "display_name": "tfcv",
   "language": "python",
   "name": "python3"
  },
  "language_info": {
   "codemirror_mode": {
    "name": "ipython",
    "version": 3
   },
   "file_extension": ".py",
   "mimetype": "text/x-python",
   "name": "python",
   "nbconvert_exporter": "python",
   "pygments_lexer": "ipython3",
   "version": "3.12.9"
  }
 },
 "nbformat": 4,
 "nbformat_minor": 2
}
